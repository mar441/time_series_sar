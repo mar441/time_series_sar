{
 "cells": [
  {
   "cell_type": "code",
   "execution_count": 1,
   "id": "1881eced",
   "metadata": {},
   "outputs": [],
   "source": [
    "import os\n",
    "import pandas as pd\n",
    "from shapely.geometry import Point, Polygon"
   ]
  },
  {
   "cell_type": "code",
   "execution_count": null,
   "id": "cf81b9c2",
   "metadata": {},
   "outputs": [],
   "source": [
    "input_directory = \"D:\\\\nysa\\\\\"\n",
    "output_directory = \"D:\\\\nysa\\\\nys\""
   ]
  },
  {
   "cell_type": "markdown",
   "id": "9515eb81-843a-4b98-9f93-092227034c54",
   "metadata": {},
   "source": [
    "### Zbiornik Nysa"
   ]
  },
  {
   "cell_type": "code",
   "execution_count": null,
   "id": "da1261cc",
   "metadata": {},
   "outputs": [],
   "source": [
    "polygon_geojson = {\n",
    "    \"type\": \"Polygon\",\n",
    "    \"coordinates\": [[[17.21957060095079, 50.460772633490535],[17.2134235260186, 50.457448087796706],[17.213177974582408, 50.45252341775182],\n",
    "                     [17.217720680466954, 50.44486180095984],[17.219439540522302, 50.441734253881094],[17.237978673977125, 50.433992686039176],\n",
    "                     [17.252957311602472, 50.43055158280865],[17.2549217230941, 50.43618234878534],[17.267199294918214, 50.43274140471141],\n",
    "                     [17.273829183764633, 50.43649515164927],[17.28291458691419, 50.43657335150047],[17.2853701012792, 50.43328884652985],\n",
    "                     [17.298138775976724, 50.43493112749999],[17.308943039181628, 50.4589332073684],[17.307224179126166, 50.465576582422074],\n",
    "                     [17.299857633706523, 50.47026546060073],[17.285983977544646, 50.47456319158093],[17.28033629450593, 50.474250642501005],\n",
    "                     [17.275179714339686, 50.46878069910437],[17.271741994228847, 50.46557658122478],[17.268918152709034, 50.46385720895421],\n",
    "                     [17.26044662815056, 50.46565473302471],[17.2557811508577, 50.46370089928391],[17.25062457069143, 50.46377905418362],\n",
    "                     [17.24755517773542, 50.46151250965917],[17.238224223148734, 50.46104355585072],[17.236505362837676, 50.45893320623739],\n",
    "                     [17.231348782671404, 50.461512509725054],[17.21957060095079, 50.460772633490535]]]}\n",
    "\n",
    "polygon = Polygon(polygon_geojson[\"coordinates\"][0])"
   ]
  },
  {
   "cell_type": "markdown",
   "id": "81dc3bd5-5dc7-428a-96aa-4ad693262ca8",
   "metadata": {},
   "source": [
    "### Zbiornik Otmuchów"
   ]
  },
  {
   "cell_type": "code",
   "execution_count": null,
   "id": "9f8dcd33",
   "metadata": {},
   "outputs": [],
   "source": [
    "polygon_geojson = {\n",
    "    \"type\": \"Polygon\",\n",
    "    \"coordinates\": [\n",
    "        [\n",
    "            [17.08263771821214, 50.48507798424535],\n",
    "            [17.07443826328685, 50.46263894720471],\n",
    "            [17.087557391166456, 50.452720630917526],\n",
    "            [17.105596192001798, 50.44763016117196],\n",
    "            [17.121585129105114, 50.446324824300575],\n",
    "            [17.15048820865755, 50.45206803655148],\n",
    "            [17.157457745342327, 50.46629253885732],\n",
    "            [17.149873249538047, 50.47399025575277],\n",
    "            [17.135319217045776, 50.474773004216274],\n",
    "            [17.128554666733123, 50.47973011018317],\n",
    "            [17.08263771821214, 50.48507798424535]\n",
    "        ]\n",
    "    ]\n",
    "}\n",
    "\n",
    "polygon = Polygon(polygon_geojson[\"coordinates\"][0])"
   ]
  },
  {
   "cell_type": "markdown",
   "id": "0c598ba5-da83-4b41-b65e-7c05586b5a7b",
   "metadata": {},
   "source": [
    "### Zbiornik Racibórz Dolny"
   ]
  },
  {
   "cell_type": "code",
   "execution_count": null,
   "id": "096faf73",
   "metadata": {},
   "outputs": [],
   "source": [
    "polygon_geojson = {\n",
    "    \"type\": \"Polygon\",\n",
    "    \"coordinates\": [\n",
    "        [\n",
    "            [18.21375643828307, 50.06655673400155],\n",
    "            [18.20970854712627, 50.05989805005862],\n",
    "            [18.21097351311252, 50.055837423287386],\n",
    "            [18.27320983965643, 49.98789282538519],\n",
    "            [18.27953466958965, 49.98317540065318],\n",
    "            [18.294967254626584, 49.992284494598096],\n",
    "            [18.285353513127774, 50.005457096167106],\n",
    "            [18.294714261429533, 50.03097889943476],\n",
    "            [18.286871472312043, 50.04446583995531],\n",
    "            [18.284088547141494, 50.05275111709224],\n",
    "            [18.272450860064254, 50.06038530217677],\n",
    "            [18.26688500972324, 50.066069544566574],\n",
    "            [18.265620043735993, 50.069479766691245],\n",
    "            [18.21375643828307, 50.06655673400155]\n",
    "        ]\n",
    "    ]\n",
    "}\n",
    "\n",
    "polygon = Polygon(polygon_geojson[\"coordinates\"][0])"
   ]
  },
  {
   "cell_type": "code",
   "execution_count": null,
   "id": "efd89020",
   "metadata": {},
   "outputs": [],
   "source": [
    "input_files = os.listdir(input_directory)\n",
    "\n",
    "file_counter = 1\n",
    "\n",
    "for input_file_name in input_files:\n",
    "    if input_file_name.endswith(\".csv\"):\n",
    "        input_file_path = os.path.join(input_directory, input_file_name)\n",
    "        a = pd.read_csv(input_file_path)\n",
    "        \n",
    "        a['geometry'] = a.apply(lambda row: Point(row['longitude'], row['latitude']), axis=1)\n",
    "        filtered_points = a[a['geometry'].apply(lambda point: point.within(polygon))]\n",
    "        \n",
    "        filtered_points = filtered_points.drop(columns=['geometry'])\n",
    "        \n",
    "        output_file_name = f\"file_rac_{file_counter}.csv\" \n",
    "        output_file_path = os.path.join(output_directory, output_file_name)\n",
    "        filtered_points.to_csv(output_file_path, index=False)\n",
    "    \n",
    "        file_counter += 1\n",
    "\n",
    "print(\"Przetworzono wszystkie pliki.\")"
   ]
  },
  {
   "cell_type": "code",
   "execution_count": null,
   "id": "55117925",
   "metadata": {
    "scrolled": true
   },
   "outputs": [],
   "source": [
    "csv_files = [f for f in os.listdir(output_directory) if f.endswith('.csv')]\n",
    "\n",
    "for i, csv_file in enumerate(csv_files):\n",
    "    file_path = os.path.join(output_directory, csv_file)\n",
    "    f1 = pd.read_csv(file_path, index_col=0)\n",
    "\n",
    "    f1 = f1.drop(columns=['mp_type', 'latitude', 'longitude', 'easting', 'northing', 'height',\n",
    "                          'height_wgs84','line', 'pixel', 'rmse', 'temporal_coherence', 'amplitude_dispersion',\n",
    "                          'incidence_angle', 'track_angle','los_east', 'los_north', 'los_up', 'mean_velocity',\n",
    "                          'mean_velocity_std', 'acceleration','acceleration_std', 'seasonality', \n",
    "                          'seasonality_std'], inplace=False)\n",
    "    \n",
    "    if 'pid' in f1.columns:\n",
    "        f1.rename(columns={'pid': 'Date'}, inplace=True)\n",
    "\n",
    "    f1 = f1.transpose()\n",
    "    \n",
    "    f1.index = f1.index.map(lambda x: pd.to_datetime(x, format='%Y%m%d', errors='ignore').strftime('%Y-%m-%d') \n",
    "                            if not isinstance(x, str) or x.isdigit() else x)\n",
    "    \n",
    "    output_file_path = os.path.join(output_directory, f'input_rac_{i+1}.csv') # Tutaj można zmienić nazwę pliku\n",
    "    f1.to_csv(output_file_path, index=True, header=True)\n",
    "\n",
    "print(\"Przetworzono i zapisano pliki CSV.\")"
   ]
  },
  {
   "cell_type": "code",
   "execution_count": null,
   "id": "92112259",
   "metadata": {
    "scrolled": true
   },
   "outputs": [],
   "source": [
    "csv_files = [f for f in os.listdir(output_directory) if f.endswith('.csv')]\n",
    "\n",
    "for i, csv_file in enumerate(csv_files):\n",
    "    file_path = os.path.join(output_directory, csv_file)\n",
    "    f1 = pd.read_csv(file_path)\n",
    "\n",
    "    f1 = f1[['pid', 'latitude', 'longitude', 'height']]\n",
    "    \n",
    "    output_file_path = os.path.join(output_directory, f'geo_rac{i+1}.csv') # Tutaj można zmienić nazwę pliku\n",
    "    f1.to_csv(output_file_path, index=False)\n",
    "\n",
    "print(\"Przetworzono i zapisano pliki CSV.\")"
   ]
  },
  {
   "cell_type": "code",
   "execution_count": null,
   "id": "951ac270",
   "metadata": {},
   "outputs": [],
   "source": []
  }
 ],
 "metadata": {
  "kernelspec": {
   "display_name": "Python 3 (ipykernel)",
   "language": "python",
   "name": "python3"
  },
  "language_info": {
   "codemirror_mode": {
    "name": "ipython",
    "version": 3
   },
   "file_extension": ".py",
   "mimetype": "text/x-python",
   "name": "python",
   "nbconvert_exporter": "python",
   "pygments_lexer": "ipython3",
   "version": "3.11.9"
  }
 },
 "nbformat": 4,
 "nbformat_minor": 5
}
