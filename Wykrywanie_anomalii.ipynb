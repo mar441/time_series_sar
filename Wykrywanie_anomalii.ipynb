{
 "cells": [
  {
   "cell_type": "code",
   "execution_count": 2,
   "id": "d5c2d070",
   "metadata": {},
   "outputs": [],
   "source": [
    "import pandas as pd\n",
    "import numpy as np\n",
    "from scipy.stats import t\n",
    "from sklearn.cluster import DBSCAN\n",
    "from sklearn.preprocessing import StandardScaler\n",
    "import matplotlib.pyplot as plt\n",
    "from sklearn.decomposition import PCA\n",
    "import os\n",
    "from sklearn.neighbors import NearestNeighbors\n",
    "from kneed import KneeLocator\n",
    "from sklearn.manifold import TSNE\n",
    "import seaborn as sns"
   ]
  },
  {
   "cell_type": "code",
   "execution_count": 65,
   "id": "cd9a4015",
   "metadata": {},
   "outputs": [],
   "source": [
    "mz2_10 = pd.read_csv( \"D:\\\\sar_time_series-fix_inference\\\\data\\\\final_otm.csv\")"
   ]
  },
  {
   "cell_type": "code",
   "execution_count": 87,
   "id": "2699ad01",
   "metadata": {},
   "outputs": [],
   "source": [
    "predictions = pd.read_csv(\"D:\\\\sar_time_series-fix_inference\\\\OTM\\\\LSTM\\\\predictions.csv\", index_col='Date')"
   ]
  },
  {
   "cell_type": "code",
   "execution_count": 91,
   "id": "d70b3428",
   "metadata": {},
   "outputs": [
    {
     "name": "stdout",
     "output_type": "stream",
     "text": [
      "Results saved to D:\\sar_time_series-fix_inference\\OTM\\LSTM\\anomaly_otm_lstm_95.csv\n"
     ]
    }
   ],
   "source": [
    "if predictions.shape[1] == 1:\n",
    "    predictions.iloc[:, 0] = predictions.iloc[:, 0].astype(str)\n",
    "    predictions_split = predictions.iloc[:, 0].str.split(',', expand=True)\n",
    "    predictions_split.columns = mz2_10.columns[1:]\n",
    "else:\n",
    "    predictions_split = predictions\n",
    "    predictions_split.columns = mz2_10.columns[1:]\n",
    "\n",
    "result = pd.DataFrame()\n",
    "\n",
    "for pid in mz2_10.columns[1:]:\n",
    "    if pid in predictions_split.columns:\n",
    "        actual_values = mz2_10[pid].tail(60).values\n",
    "        predicted_values = predictions_split[pid].values\n",
    "        actual_values = pd.to_numeric(actual_values, errors='coerce')\n",
    "        predicted_values = pd.to_numeric(predicted_values, errors='coerce')\n",
    "        \n",
    "        if np.isnan(actual_values).any() or np.isnan(predicted_values).any():\n",
    "            continue\n",
    "    else:\n",
    "        continue\n",
    "\n",
    "    residuals = actual_values - predicted_values\n",
    "    residuals_std = np.std(residuals)\n",
    "    degrees_of_freedom = len(predicted_values) - 1\n",
    "    margin_of_error = t.ppf(0.95, degrees_of_freedom) * residuals_std\n",
    "    lower_bound = predicted_values - margin_of_error\n",
    "    upper_bound = predicted_values + margin_of_error\n",
    "    anomalies = (actual_values < lower_bound) | (actual_values > upper_bound)\n",
    "    \n",
    "    pid_result = pd.DataFrame({\n",
    "        'pid': pid,\n",
    "        'lower_bound': lower_bound,\n",
    "        'upper_bound': upper_bound,\n",
    "        'actual_value': actual_values,\n",
    "        'predicted_value': predicted_values,\n",
    "        'is_anomaly': anomalies\n",
    "    })\n",
    "    \n",
    "    result = pd.concat([result, pid_result], ignore_index=True)\n",
    "\n",
    "output_path = 'D:\\\\sar_time_series-fix_inference\\\\OTM\\\\LSTM\\\\anomaly_otm_lstm_95.csv'\n",
    "result.to_csv(output_path, index=False)\n",
    "\n",
    "print(f\"Results saved to {output_path}\")"
   ]
  },
  {
   "cell_type": "code",
   "execution_count": null,
   "id": "0539466d-c0af-4186-b2c5-b38d7e859820",
   "metadata": {},
   "outputs": [],
   "source": []
  }
 ],
 "metadata": {
  "kernelspec": {
   "display_name": "Python 3 (ipykernel)",
   "language": "python",
   "name": "python3"
  },
  "language_info": {
   "codemirror_mode": {
    "name": "ipython",
    "version": 3
   },
   "file_extension": ".py",
   "mimetype": "text/x-python",
   "name": "python",
   "nbconvert_exporter": "python",
   "pygments_lexer": "ipython3",
   "version": "3.11.9"
  }
 },
 "nbformat": 4,
 "nbformat_minor": 5
}
